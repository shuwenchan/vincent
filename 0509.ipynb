{
 "cells": [
  {
   "cell_type": "code",
   "execution_count": 1,
   "metadata": {},
   "outputs": [
    {
     "name": "stdout",
     "output_type": "stream",
     "text": [
      "請輸入攝氏溫度100\n",
      "華氏溫度= 180.0\n"
     ]
    }
   ],
   "source": [
    "Cires = input(\"請輸入攝氏溫度\")\n",
    "facis = 9/5 * int(Cires)\n",
    "print(\"華氏溫度=\",facis)"
   ]
  },
  {
   "cell_type": "code",
   "execution_count": 2,
   "metadata": {},
   "outputs": [
    {
     "name": "stdout",
     "output_type": "stream",
     "text": [
      "樣本 =  [5, 8, 9, 6, 4, 1, 2, 3, 5, 6]\n",
      "平均數 =  4.9\n",
      "最大值 =  9\n",
      "最小值=  1\n",
      "變異數 =  6.32\n",
      "標準差=  2.51\n"
     ]
    }
   ],
   "source": [
    "# P4-1-1敘述統計(statistics函式庫)\n",
    "import statistics as st\n",
    "sample= [5, 8, 9, 6, 4, 1, 2, 3, 5, 6]\n",
    "print('樣本 = ', sample)\n",
    "print('平均數 = ',  st.mean(sample))\n",
    "print('最大值 = ',  max(sample))\n",
    "print('最小值= ',  min(sample))\n",
    "print('變異數 = ', round(st.variance(sample),2))\n",
    "print('標準差= ',  round(st.stdev(sample),2))\n"
   ]
  },
  {
   "cell_type": "code",
   "execution_count": 3,
   "metadata": {},
   "outputs": [
    {
     "name": "stdout",
     "output_type": "stream",
     "text": [
      "bb很大\n"
     ]
    }
   ],
   "source": [
    "a =4\n",
    "b =6\n",
    "if a>=b:\n",
    "    print(\"a比較大\")\n",
    "else:\n",
    "    print(\"bb很大\")"
   ]
  },
  {
   "cell_type": "code",
   "execution_count": 7,
   "metadata": {},
   "outputs": [
    {
     "name": "stdout",
     "output_type": "stream",
     "text": [
      "SUM= 0\n"
     ]
    }
   ],
   "source": [
    "SUM=0\n",
    "for con in range(10,11,-1):\n",
    "# for con range(11):    \n",
    "    SUM+=con\n",
    "print(\"SUM=\",SUM)"
   ]
  },
  {
   "cell_type": "code",
   "execution_count": 8,
   "metadata": {},
   "outputs": [
    {
     "name": "stdout",
     "output_type": "stream",
     "text": [
      "t\n",
      "e\n",
      "s\n",
      "t\n",
      " \n",
      "l\n",
      "i\n",
      "s\n",
      "t\n",
      "end\n"
     ]
    }
   ],
   "source": [
    "mylist =\"test list\"\n",
    "for word in mylist:\n",
    "    print(word)\n",
    "else:\n",
    "    print(\"end\")"
   ]
  },
  {
   "cell_type": "code",
   "execution_count": null,
   "metadata": {},
   "outputs": [],
   "source": []
  }
 ],
 "metadata": {
  "kernelspec": {
   "display_name": "Python 3",
   "language": "python",
   "name": "python3"
  },
  "language_info": {
   "codemirror_mode": {
    "name": "ipython",
    "version": 3
   },
   "file_extension": ".py",
   "mimetype": "text/x-python",
   "name": "python",
   "nbconvert_exporter": "python",
   "pygments_lexer": "ipython3",
   "version": "3.6.4"
  }
 },
 "nbformat": 4,
 "nbformat_minor": 2
}
