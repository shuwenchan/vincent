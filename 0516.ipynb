{
 "cells": [
  {
   "cell_type": "code",
   "execution_count": 2,
   "metadata": {},
   "outputs": [
    {
     "name": "stdout",
     "output_type": "stream",
     "text": [
      "雞有 23 隻 兔子有 12 隻\n"
     ]
    }
   ],
   "source": [
    "for gg in range(0,36):\n",
    "    rab=35-gg\n",
    "    if(2*gg+4*rab) ==94:\n",
    "        print(\"雞有\",gg,\"隻\",\"兔子有\",rab,\"隻\")\n",
    "        break\n",
    "else:\n",
    "    print(\"無解\")"
   ]
  },
  {
   "cell_type": "code",
   "execution_count": 4,
   "metadata": {},
   "outputs": [
    {
     "name": "stdout",
     "output_type": "stream",
     "text": [
      "1+2+...+10= 55\n"
     ]
    }
   ],
   "source": [
    "sum=0\n",
    "count=0\n",
    "while count <=10:\n",
    "    sum+=count\n",
    "    count+=1\n",
    "print(\"1+2+...+10=\",sum)    \n",
    "      "
   ]
  },
  {
   "cell_type": "code",
   "execution_count": 5,
   "metadata": {},
   "outputs": [
    {
     "name": "stdout",
     "output_type": "stream",
     "text": [
      "37 年後本金變成 20065\n"
     ]
    }
   ],
   "source": [
    "year=0\n",
    "x=10000\n",
    "while x<=20000:\n",
    "    x=x*1.019\n",
    "    year+=1\n",
    "print(year,\"年後本金變成\",int(x))"
   ]
  },
  {
   "cell_type": "code",
   "execution_count": 6,
   "metadata": {},
   "outputs": [
    {
     "name": "stdout",
     "output_type": "stream",
     "text": [
      "輸入1~5的數字: 5\n",
      "You lose\n",
      "輸入1~5的數字: 4\n",
      "You lose\n",
      "輸入1~5的數字: 3\n",
      "You lose\n",
      "輸入1~5的數字: 2\n",
      "You right\n"
     ]
    }
   ],
   "source": [
    "import random\n",
    "num=random.randint(1,5)\n",
    "while True:\n",
    "    guess=int(input(\"輸入1~5的數字: \"))\n",
    "    if guess==num:\n",
    "        print(\"You right\")\n",
    "        break\n",
    "    else:\n",
    "        print(\"You lose\")"
   ]
  },
  {
   "cell_type": "code",
   "execution_count": 7,
   "metadata": {},
   "outputs": [
    {
     "name": "stdout",
     "output_type": "stream",
     "text": [
      "41\n",
      "46\n",
      "43\n",
      "31\n",
      "1\n",
      "13\n"
     ]
    }
   ],
   "source": [
    "import numpy as np\n",
    "a=np.random.randint(1,50,size=6)\n",
    "for eacha in a:\n",
    "    print(eacha)"
   ]
  },
  {
   "cell_type": "code",
   "execution_count": 12,
   "metadata": {},
   "outputs": [
    {
     "name": "stdout",
     "output_type": "stream",
     "text": [
      "PY\n",
      "JAVA\n",
      "SQL\n",
      "SQL\n",
      "JAVA\n",
      "JAVA8\n",
      "['PY', 'JAVA', 'SQL', 'JAVA8']\n",
      "['c#', 'PY', 'JAVA', 'SQL', 'JAVA8']\n",
      "['c#', 'PY', 'JAVA', 'SQL']\n",
      "['PY', 'JAVA', 'SQL']\n"
     ]
    }
   ],
   "source": [
    "my_list=[]\n",
    "my_list1=list()\n",
    "my_list2=[\"PY\",\"JAVA\",\"SQL\"]\n",
    "print(my_list2[0])\n",
    "print(my_list2[1])\n",
    "print(my_list2[2])\n",
    "print(my_list2[-1])\n",
    "print(my_list2[-2])\n",
    "my_list2.append(\"JAVA8\")\n",
    "print(my_list2[-1])\n",
    "print(my_list2)\n",
    "\n",
    "my_list2.insert(0,\"c#\")\n",
    "print(my_list2)\n",
    "del my_list2[-1]\n",
    "print(my_list2)\n",
    "my_list2.remove(\"c#\")\n",
    "print(my_list2)"
   ]
  },
  {
   "cell_type": "code",
   "execution_count": null,
   "metadata": {},
   "outputs": [],
   "source": []
  }
 ],
 "metadata": {
  "kernelspec": {
   "display_name": "Python 3",
   "language": "python",
   "name": "python3"
  },
  "language_info": {
   "codemirror_mode": {
    "name": "ipython",
    "version": 3
   },
   "file_extension": ".py",
   "mimetype": "text/x-python",
   "name": "python",
   "nbconvert_exporter": "python",
   "pygments_lexer": "ipython3",
   "version": "3.6.4"
  }
 },
 "nbformat": 4,
 "nbformat_minor": 2
}
